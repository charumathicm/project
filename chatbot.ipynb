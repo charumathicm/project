{
  "nbformat": 4,
  "nbformat_minor": 0,
  "metadata": {
    "colab": {
      "provenance": [],
      "authorship_tag": "ABX9TyOjh6a73/Nmk+un8I7xOpcY",
      "include_colab_link": true
    },
    "kernelspec": {
      "name": "python3",
      "display_name": "Python 3"
    },
    "language_info": {
      "name": "python"
    }
  },
  "cells": [
    {
      "cell_type": "markdown",
      "metadata": {
        "id": "view-in-github",
        "colab_type": "text"
      },
      "source": [
        "<a href=\"https://colab.research.google.com/github/charumathicm/project/blob/main/chatbot.ipynb\" target=\"_parent\"><img src=\"https://colab.research.google.com/assets/colab-badge.svg\" alt=\"Open In Colab\"/></a>"
      ]
    },
    {
      "cell_type": "code",
      "execution_count": null,
      "metadata": {
        "colab": {
          "base_uri": "https://localhost:8080/"
        },
        "id": "B-EvMWw4mAJ6",
        "outputId": "8c98246d-fc8f-4667-a569-94287f8f7836"
      },
      "outputs": [
        {
          "output_type": "stream",
          "name": "stdout",
          "text": [
            "Hello! I'm a simple chatbot. You can start chatting with me. Type 'bye' to exit.\n",
            "You: hi\n",
            "ChatGPT: Hey!\n",
            "You: how are you\n",
            "ChatGPT: I am good, thank you!\n",
            "You: bye\n",
            "Goodbye!\n"
          ]
        }
      ],
      "source": [
        "import nltk\n",
        "from nltk.chat.util import Chat, reflections\n",
        "\n",
        "# Define patterns and responses for the chatbot\n",
        "patterns = [\n",
        "    (r'hi|hello|hey', ['Hello!', 'Hi there!', 'Hey!']),\n",
        "    (r'how are you', ['I am good, thank you!', 'I am doing well. How about you?']),\n",
        "    (r'(.*) your name', ['I am a chatbot. You can call me ChatGPT.']),\n",
        "    (r'bye|goodbye', ['Goodbye!', 'See you later!', 'Have a great day!']),\n",
        "]\n",
        "\n",
        "# Create a chatbot using the defined patterns\n",
        "chatbot = Chat(patterns, reflections)\n",
        "\n",
        "# Define a function to interact with the chatbot\n",
        "def chat_with_bot():\n",
        "    print(\"Hello! I'm a simple chatbot. You can start chatting with me. Type 'bye' to exit.\")\n",
        "    while True:\n",
        "        user_input = input('You: ')\n",
        "        if user_input.lower() == 'bye':\n",
        "            print('Goodbye!')\n",
        "            break\n",
        "        response = chatbot.respond(user_input)\n",
        "        print('ChatGPT:', response)\n",
        "\n",
        "# Start the chat\n",
        "chat_with_bot()\n"
      ]
    }
  ]
}